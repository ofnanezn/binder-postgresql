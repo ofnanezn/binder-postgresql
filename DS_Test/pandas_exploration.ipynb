{
 "cells": [
  {
   "cell_type": "markdown",
   "metadata": {},
   "source": [
    "<hr>\n",
    "<hr>"
   ]
  },
  {
   "cell_type": "markdown",
   "metadata": {},
   "source": [
    "<link href=\"https://fonts.googleapis.com/css?family=Montserrat&display=swap\" rel=\"stylesheet\">\n",
    "<div id=\"header_container\">\n",
    "    <div id=\"logo_container\" style=\"float:left; display:inline-block; width:50%;\">\n",
    "        <h1 style=\"margin: auto; font-family: Montserrat; padding-top:30px; text-align: center; vertical-align: middle; font-family: Montserrat;\">Prueba Técnica - Technical Asessment: Python</h1>\n",
    "        <h4 style=\"margin: auto; font-family: Verdana; padding-top:50px; text-align: justify; vertical-align: middle;\">\n",
    "            Esta prueba está enfocada en identificar y evaluar sus habilidades para el manejo de datos mediante el uso de <a href=\"https://pandas.pydata.org/\">Pandas</a> y <a href=\"https://numpy.org/\">Numpy</a>. El objetivo es recorrer de forma breve nuestro pipeline de desarrollo de productos de datos, a saber: Entendimiento del Negocio, Entendimiento de los Datos, Análisis Exploratorio de Datos, Ingeniería de Características, Modelamiento, Evaluación y Selección, Despliegue, Monitoreo y Optimización y, Experimentación. Es obligatorio hacer uso de las librerías mencionadas anteriormente. Asimismo, podrá usar <a href=\"https://matplotlib.org/\">Matplotlib</a> o <a href=\"https://plot.ly/python/\">Plotly</a> para las visualizaciones que se le pidan generar. Luego, con base en sus resultados, se evaluará tanto la calidad, efectividad y resultados generados. Es clave que durante todo el proceso se comunique de forma clara con su entrevistador, haciéndole saber cuáles son sus ideas y la forma de abordar el proceso. ¡Éxitos en su prueba!\n",
    "            </h4>\n",
    "    </div>\n",
    "    <div id=\"title_container\" style=\"float:right; display:inline-block; float:right; margin:auto; width:50%;\">\n",
    "        <img alt=\"omnibnk_logo\" src=\"../omnibnk_logo.png\">\n",
    "    </div>\n",
    "</div>"
   ]
  },
  {
   "cell_type": "markdown",
   "metadata": {},
   "source": [
    "<hr>\n",
    "<hr>"
   ]
  },
  {
   "cell_type": "markdown",
   "metadata": {},
   "source": [
    "## Configuración Inicial\n",
    "\n",
    "En este chunk se importan las librerías para el análisis. Es obligatorio usarlas, pero no está restringido sólo a éstas. Puede importarlas de acuerdo con su criterio y lo que considere le ayudará a resolver los ejercicios planteados. Si necesita instalar algunas librerías adicionales use la siguiente sintaxis:\n",
    "\n",
    "    !python3 -m pip install [NOMBRE_PAQUETE] --user\n",
    "\n",
    "Antes de cualquier decisión se espera que lo converse con su entrevistador. Asimismo, puede agregar tantas celdas como desea para comentar sus resultados usando Markdown."
   ]
  },
  {
   "cell_type": "code",
   "execution_count": 1,
   "metadata": {},
   "outputs": [],
   "source": [
    "import pandas as pd\n",
    "import numpy as np\n",
    "\n",
    "from matplotlib import pyplot as plt\n",
    "import matplotlib\n",
    "import seaborn as sns\n",
    "\n",
    "%matplotlib inline"
   ]
  },
  {
   "cell_type": "markdown",
   "metadata": {},
   "source": [
    "<hr>\n",
    "<hr>"
   ]
  },
  {
   "cell_type": "markdown",
   "metadata": {},
   "source": [
    "## Análisis Exploratorio de Datos"
   ]
  },
  {
   "cell_type": "markdown",
   "metadata": {},
   "source": [
    "* Cargue el archivo *vehicles.csv* e imprima las primeras 10 filas para examinar su contenido."
   ]
  },
  {
   "cell_type": "markdown",
   "metadata": {},
   "source": [
    "#### Escriba su código acá"
   ]
  },
  {
   "cell_type": "code",
   "execution_count": null,
   "metadata": {},
   "outputs": [],
   "source": []
  },
  {
   "cell_type": "markdown",
   "metadata": {},
   "source": [
    "Una de las primeras tareas en toda exploración de datos es generar una descripción incial revisando el tipo de datos, medidas de tendencia central; completitud y consistencia. Describa los datos cargados en cada una de las dimensiones anteriores.\n",
    "\n",
    "* Valide el tipo de dato de cada una de las variables"
   ]
  },
  {
   "cell_type": "markdown",
   "metadata": {},
   "source": [
    "#### Escriba su código acá"
   ]
  },
  {
   "cell_type": "code",
   "execution_count": null,
   "metadata": {},
   "outputs": [],
   "source": []
  },
  {
   "cell_type": "markdown",
   "metadata": {},
   "source": [
    "* Para calcular las Medidas de Tendencia Central de las variables numéricas"
   ]
  },
  {
   "cell_type": "markdown",
   "metadata": {},
   "source": [
    "#### Escriba su código acá"
   ]
  },
  {
   "cell_type": "code",
   "execution_count": null,
   "metadata": {},
   "outputs": [],
   "source": []
  },
  {
   "cell_type": "markdown",
   "metadata": {},
   "source": [
    "* Para validar la completitud de cada una de las variables"
   ]
  },
  {
   "cell_type": "markdown",
   "metadata": {},
   "source": [
    "#### Escriba su código acá"
   ]
  },
  {
   "cell_type": "code",
   "execution_count": null,
   "metadata": {},
   "outputs": [],
   "source": []
  },
  {
   "cell_type": "markdown",
   "metadata": {},
   "source": [
    "* Proponga una manera en la que validaría la consistencia de cada una de las variables. Discutalo con su entrevistador. **En este punto no es necesario escribir código.**"
   ]
  },
  {
   "cell_type": "markdown",
   "metadata": {},
   "source": [
    "* Luego del análisis anterior, ¿encontró algo relacionado con la completitud o la consistencia de los datos? De llegar a ser afirmativa su respuesta proponga una forma para solucionar 1 de estos problemas y explique las razones de su elección."
   ]
  },
  {
   "cell_type": "markdown",
   "metadata": {},
   "source": [
    "#### Escriba su código acá"
   ]
  },
  {
   "cell_type": "code",
   "execution_count": 211,
   "metadata": {},
   "outputs": [],
   "source": []
  },
  {
   "cell_type": "markdown",
   "metadata": {},
   "source": [
    "* La información georeferenciada permite encontrar patrones y potenciales diferencias dada la ubicación de los datos analizados. Cargue el archivo *counties.csv*, el cual contiene los datos de los códigos y nombres completos de los estados de Estados Unidos, y asígnele un nombre que le permita recodar su contenido. Imprima las primeras 7 filas para verificar su contenido."
   ]
  },
  {
   "cell_type": "markdown",
   "metadata": {},
   "source": [
    "#### Escriba su código acá - Write your code here"
   ]
  },
  {
   "cell_type": "code",
   "execution_count": null,
   "metadata": {},
   "outputs": [],
   "source": []
  },
  {
   "cell_type": "markdown",
   "metadata": {},
   "source": [
    "* Ahora, cargue el archivo *crashes_poverty.csv* en el cual se encuentra la información de los accidentes de transito y el porcentaje de personas en condición de pobreza por estado y asígnele un nombre que sea descriptivo de acuerdo con la información que contiene. Imprima las 3 primeras lineas para validar que los datos hayan cargado de forma correcta."
   ]
  },
  {
   "cell_type": "markdown",
   "metadata": {},
   "source": [
    "#### Escriba su código acá - Write your code here"
   ]
  },
  {
   "cell_type": "code",
   "execution_count": null,
   "metadata": {},
   "outputs": [],
   "source": []
  },
  {
   "cell_type": "markdown",
   "metadata": {},
   "source": [
    "* ¿Cuál es la dimensión de los DataFrames?"
   ]
  },
  {
   "cell_type": "markdown",
   "metadata": {},
   "source": [
    "#### Escriba su código acá - Write your code here"
   ]
  },
  {
   "cell_type": "code",
   "execution_count": null,
   "metadata": {},
   "outputs": [],
   "source": []
  },
  {
   "cell_type": "markdown",
   "metadata": {},
   "source": [
    "* ¿Nota algo que deba mencionar a su entrevistador luego de las tareas realizadas anteriormente?. De ser negativa su respuesta continue."
   ]
  },
  {
   "cell_type": "markdown",
   "metadata": {},
   "source": [
    "La dimensión de los dataset relacionados con los Condados y, Accidentes y Pobreza tienen dimensiones diferentes, lo que implica que el cruce entre estos dos no va a ser consistente, es decir, no se van a mantener el mismo número de registros ni las mismas categorías."
   ]
  },
  {
   "cell_type": "markdown",
   "metadata": {},
   "source": [
    "* La integración de diferentes fuentes de información y conjuntos de datos es clave a la hora de la fase de exploración. Basado en su primer contacto con los datos proponga una forma en la que se pueda generar un sólo DataFrame a partir de los datos cargados."
   ]
  },
  {
   "cell_type": "markdown",
   "metadata": {},
   "source": [
    "El cruce se puede hacer agregando la información de los estados, provenientes del archivo counties.csv, al archivo de vehículos. Sin embargo, dado que hay una inconsistencia con las dimensiones de los Dataframes relacionados con la información de \n",
    "accidentes de transito se esperaría que se valide primero cuáles son los casos en los cuales los archivos no coinciden, para luego sí hacer el cruce. Lo anterior se puede validar rápidamente mediante la segunda comparación"
   ]
  },
  {
   "cell_type": "markdown",
   "metadata": {},
   "source": [
    "#### Escriba su código acá - Write your code here"
   ]
  },
  {
   "cell_type": "code",
   "execution_count": null,
   "metadata": {},
   "outputs": [],
   "source": []
  },
  {
   "cell_type": "markdown",
   "metadata": {},
   "source": [
    "* No sólo cruzar los datos es importante, también garantizar la consistencia del cruce, ya que de este depende la calidad de los datos finales. Proponga una forma en la que pueda validar que la unificación de los DataFrames es consistente."
   ]
  },
  {
   "cell_type": "markdown",
   "metadata": {},
   "source": [
    "#### Escriba su código acá "
   ]
  },
  {
   "cell_type": "code",
   "execution_count": null,
   "metadata": {},
   "outputs": [],
   "source": []
  },
  {
   "cell_type": "markdown",
   "metadata": {},
   "source": [
    "* Antes de continuar con el análisis elimine las variables duplicadas o no relevantes para el análisis."
   ]
  },
  {
   "cell_type": "markdown",
   "metadata": {},
   "source": [
    "#### Escriba su código acá"
   ]
  },
  {
   "cell_type": "code",
   "execution_count": null,
   "metadata": {},
   "outputs": [],
   "source": []
  },
  {
   "cell_type": "markdown",
   "metadata": {},
   "source": [
    "* Validar la relación que existe entre dos o más variables es importante para identificar potenciales variables relevantes para el proceso de modelado. Proponga un método visual en el cual se pueda validar la relación que existe entre dos variables numéricas del Dataframe. Dichas variables son de su elección. Tenga en cuenta que en los siguientes pasos se le pedirá que genere un prototipo para un modelo supervisdado de regresión para predecir el precio de los vehículos dadas sus caracteríticas."
   ]
  },
  {
   "cell_type": "markdown",
   "metadata": {},
   "source": [
    "#### Escriba su código acá"
   ]
  },
  {
   "cell_type": "code",
   "execution_count": null,
   "metadata": {},
   "outputs": [],
   "source": []
  },
  {
   "cell_type": "markdown",
   "metadata": {},
   "source": [
    "* ¿Nota algo extraño en los rangos de las variables usadas? Si es así, proponga alguna forma para corregir dicho problema."
   ]
  },
  {
   "cell_type": "markdown",
   "metadata": {},
   "source": [
    "* ¿Qué conclusiones puede extraer del análisis anterior?"
   ]
  },
  {
   "cell_type": "markdown",
   "metadata": {},
   "source": [
    "#### Escriba su código acá"
   ]
  },
  {
   "cell_type": "markdown",
   "metadata": {},
   "source": []
  },
  {
   "cell_type": "markdown",
   "metadata": {},
   "source": [
    "<hr>"
   ]
  },
  {
   "cell_type": "markdown",
   "metadata": {},
   "source": [
    "## Ingeniería de Características"
   ]
  },
  {
   "cell_type": "markdown",
   "metadata": {},
   "source": [
    "* Con base en el análisis anteriores realice las transformaciones que considere pertinentes para lograr entrenar un modelo que prediga el valor de los vehículos dadas algunas caracteríticas asociadas."
   ]
  },
  {
   "cell_type": "markdown",
   "metadata": {},
   "source": [
    "#### Escriba su código acá"
   ]
  },
  {
   "cell_type": "code",
   "execution_count": null,
   "metadata": {},
   "outputs": [],
   "source": []
  }
 ],
 "metadata": {
  "kernelspec": {
   "display_name": "Python 3",
   "language": "python",
   "name": "python3"
  },
  "language_info": {
   "codemirror_mode": {
    "name": "ipython",
    "version": 3
   },
   "file_extension": ".py",
   "mimetype": "text/x-python",
   "name": "python",
   "nbconvert_exporter": "python",
   "pygments_lexer": "ipython3",
   "version": "3.8.3"
  }
 },
 "nbformat": 4,
 "nbformat_minor": 4
}
